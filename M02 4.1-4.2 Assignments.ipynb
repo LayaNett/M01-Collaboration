{
 "cells": [
  {
   "cell_type": "code",
   "execution_count": 3,
   "id": "6818e43f",
   "metadata": {},
   "outputs": [
    {
     "name": "stdout",
     "output_type": "stream",
     "text": [
      "Just right\n"
     ]
    }
   ],
   "source": [
    "Secret = 5\n",
    "Guess = 2\n",
    "if Guess > Secret:\n",
    "    print(\"Too high\")\n",
    "    \n",
    "elif Guess < Secret:\n",
    "    print(\"Too low\")\n",
    "\n",
    "else:\n",
    "    print(\"Just right\")"
   ]
  },
  {
   "cell_type": "code",
   "execution_count": 14,
   "id": "756c7783",
   "metadata": {},
   "outputs": [
    {
     "name": "stdout",
     "output_type": "stream",
     "text": [
      "It's a pumpkin\n"
     ]
    }
   ],
   "source": [
    "green = False\n",
    "small = False\n",
    "\n",
    "if green:\n",
    "    if small: #green and small\n",
    "        print(\"It's a pea\")\n",
    "    else: #green, not small\n",
    "        print(\"It's a watermelon\")\n",
    "    \n",
    "elif small:\n",
    "    if green: #green and small\n",
    "        print(\"It's a pea\")\n",
    "    else: #small, not green\n",
    "        print(\"It's a cherry\")\n",
    "        \n",
    "else:# not small and not green\n",
    "     print(\"It's a pumpkin\")"
   ]
  }
 ],
 "metadata": {
  "kernelspec": {
   "display_name": "Python 3 (ipykernel)",
   "language": "python",
   "name": "python3"
  },
  "language_info": {
   "codemirror_mode": {
    "name": "ipython",
    "version": 3
   },
   "file_extension": ".py",
   "mimetype": "text/x-python",
   "name": "python",
   "nbconvert_exporter": "python",
   "pygments_lexer": "ipython3",
   "version": "3.11.4"
  }
 },
 "nbformat": 4,
 "nbformat_minor": 5
}
