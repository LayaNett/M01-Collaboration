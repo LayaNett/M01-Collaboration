{
 "cells": [
  {
   "cell_type": "code",
   "execution_count": 12,
   "id": "8a211ddf",
   "metadata": {},
   "outputs": [
    {
     "name": "stdout",
     "output_type": "stream",
     "text": [
      "['mozzarella', 'cinderella', 'salmonella']\n"
     ]
    }
   ],
   "source": [
    "things = [\"mozzarella\",\"cinderella\",\"salmonella\"]\n",
    "print(things)\n",
    "#Commenting older prints to not print a bunch of lists a bunch"
   ]
  },
  {
   "cell_type": "code",
   "execution_count": 7,
   "id": "f0cccc7a",
   "metadata": {},
   "outputs": [
    {
     "name": "stdout",
     "output_type": "stream",
     "text": [
      "[['MOZZARELLA'], ['Cinderella'], 'salmonella']\n"
     ]
    }
   ],
   "source": [
    "things[1] = [\"Cinderella\"]\n",
    "print(things)"
   ]
  },
  {
   "cell_type": "code",
   "execution_count": 14,
   "id": "7b89832e",
   "metadata": {},
   "outputs": [
    {
     "name": "stdout",
     "output_type": "stream",
     "text": [
      "[['MOZZARELLA'], 'cinderella', 'salmonella']\n"
     ]
    }
   ],
   "source": [
    "things[0] = [\"MOZZARELLA\"]\n",
    "print(things)"
   ]
  },
  {
   "cell_type": "code",
   "execution_count": 10,
   "id": "b1e8ff42",
   "metadata": {},
   "outputs": [
    {
     "name": "stdout",
     "output_type": "stream",
     "text": [
      "[['MOZZARELLA'], ['Cinderella']]\n",
      "You wona  nobel prize! Congrats!\n"
     ]
    }
   ],
   "source": [
    "things.pop(2)\n",
    "print(things)\n",
    "print(\"You won a nobel prize! Congrats!\")"
   ]
  }
 ],
 "metadata": {
  "kernelspec": {
   "display_name": "Python 3 (ipykernel)",
   "language": "python",
   "name": "python3"
  },
  "language_info": {
   "codemirror_mode": {
    "name": "ipython",
    "version": 3
   },
   "file_extension": ".py",
   "mimetype": "text/x-python",
   "name": "python",
   "nbconvert_exporter": "python",
   "pygments_lexer": "ipython3",
   "version": "3.11.4"
  }
 },
 "nbformat": 4,
 "nbformat_minor": 5
}
